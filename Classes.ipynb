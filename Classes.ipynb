{
  "nbformat": 4,
  "nbformat_minor": 0,
  "metadata": {
    "colab": {
      "provenance": [],
      "authorship_tag": "ABX9TyNeYSj7iYy7T5EbbceqQy4B",
      "include_colab_link": true
    },
    "kernelspec": {
      "name": "python3",
      "display_name": "Python 3"
    },
    "language_info": {
      "name": "python"
    }
  },
  "cells": [
    {
      "cell_type": "markdown",
      "metadata": {
        "id": "view-in-github",
        "colab_type": "text"
      },
      "source": [
        "<a href=\"https://colab.research.google.com/github/nikhil-xyz/Python-Practice/blob/main/Classes.ipynb\" target=\"_parent\"><img src=\"https://colab.research.google.com/assets/colab-badge.svg\" alt=\"Open In Colab\"/></a>"
      ]
    },
    {
      "cell_type": "markdown",
      "source": [
        "Write a Python class Car that has the following properties and methods:\n",
        "\n",
        "- Attributes: brand, model, year\n",
        "\n",
        "- A constructor (__init__) to initialize these attributes\n",
        "\n",
        "- A method car_info() that returns a string in the format: \"Brand: <brand>, Model: <model>, Year: <year>\""
      ],
      "metadata": {
        "id": "rRUUDrsDf0C6"
      }
    },
    {
      "cell_type": "code",
      "execution_count": null,
      "metadata": {
        "colab": {
          "base_uri": "https://localhost:8080/"
        },
        "id": "6iTlmrT_fGOb",
        "outputId": "d9511a73-ab88-470d-a422-4ccbca10aa31"
      },
      "outputs": [
        {
          "output_type": "stream",
          "name": "stdout",
          "text": [
            "Brand: Toyota, Model: Camry, Year: 2020\n"
          ]
        }
      ],
      "source": [
        "class Car:\n",
        "  def __init__(self, brand, model, year):\n",
        "    self.brand = brand\n",
        "    self.model = model\n",
        "    self.year = year\n",
        "\n",
        "  def car_info(self):\n",
        "    print(f\"Brand: {self.brand}, Model: {self.model}, Year: {self.year}\")\n",
        "\n",
        "c = Car(\"Toyota\", \"Camry\", 2020)\n",
        "c.car_info()"
      ]
    },
    {
      "cell_type": "markdown",
      "source": [
        "Modify the Car class to include a class attribute called wheels, which is set to 4 for all instances. Add a class method update_wheels(cls, new_wheels) that allows updating the number of wheels for all instances.\n",
        "\n",
        "Write the updated class."
      ],
      "metadata": {
        "id": "09IY5rNAgEup"
      }
    },
    {
      "cell_type": "code",
      "source": [
        "class Car:\n",
        "  wheels = 4\n",
        "  def __init__(self, brand, model, year):\n",
        "    self.brand = brand\n",
        "    self.model = model\n",
        "    self.year = year\n",
        "\n",
        "  def car_info(self):\n",
        "    print(f\"Brand: {self.brand}, Model: {self.model}, Year: {self.year}\")\n",
        "\n",
        "  @classmethod\n",
        "  def update_wheels(cls, new_wheels):\n",
        "    cls.wheels = new_wheels\n",
        "\n",
        "c = Car(\"Toyota\", \"Camry\", 2020)\n",
        "c.car_info()\n",
        "Car.update_wheels(5)\n",
        "print(Car.wheels)"
      ],
      "metadata": {
        "colab": {
          "base_uri": "https://localhost:8080/"
        },
        "id": "3_N6NcB9fp2K",
        "outputId": "ea879200-7b02-4349-f5d5-5d23eae8b5b7"
      },
      "execution_count": null,
      "outputs": [
        {
          "output_type": "stream",
          "name": "stdout",
          "text": [
            "Brand: Toyota, Model: Camry, Year: 2020\n",
            "5\n"
          ]
        }
      ]
    },
    {
      "cell_type": "markdown",
      "source": [
        "Modify the Car class to include a static method called is_motor_vehicle(), which returns True (since all cars are motor vehicles)."
      ],
      "metadata": {
        "id": "slnLwdjQhEdE"
      }
    },
    {
      "cell_type": "code",
      "source": [
        "class Car:\n",
        "  wheels = 4\n",
        "  def __init__(self, brand, model, year):\n",
        "    self.brand = brand\n",
        "    self.model = model\n",
        "    self.year = year\n",
        "\n",
        "  def car_info(self):\n",
        "    return f\"Brand: {self.brand}, Model: {self.model}, Year: {self.year}\"\n",
        "\n",
        "  @classmethod\n",
        "  def update_wheels(cls, new_wheels):\n",
        "    cls.wheels = new_wheels\n",
        "\n",
        "  @staticmethod\n",
        "  def is_motor_vehicle():\n",
        "    return True\n",
        "\n",
        "c = Car(\"Toyota\", \"Camry\", 2020)\n",
        "print(c.car_info())\n",
        "Car.update_wheels(5)\n",
        "print(Car.wheels)\n",
        "print(Car.is_motor_vehicle())"
      ],
      "metadata": {
        "colab": {
          "base_uri": "https://localhost:8080/"
        },
        "id": "WrYWrGumgu0K",
        "outputId": "4095eab2-f74b-4f7e-d309-8715eb73a35f"
      },
      "execution_count": null,
      "outputs": [
        {
          "output_type": "stream",
          "name": "stdout",
          "text": [
            "Brand: Toyota, Model: Camry, Year: 2020\n",
            "5\n",
            "True\n"
          ]
        }
      ]
    },
    {
      "cell_type": "markdown",
      "source": [
        "Create a subclass ElectricCar that inherits from Car.\n",
        "\n",
        "- It should have an additional attribute battery_capacity (in kWh).\n",
        "\n",
        "- Modify the car_info() method to include battery capacity in the output."
      ],
      "metadata": {
        "id": "Wexw0gH2hsRK"
      }
    },
    {
      "cell_type": "code",
      "source": [
        "class Car:\n",
        "  wheels = 4\n",
        "  def __init__(self, brand, model, year):\n",
        "    self.brand = brand\n",
        "    self.model = model\n",
        "    self.year = year\n",
        "\n",
        "  def car_info(self):\n",
        "    return f\"Brand: {self.brand}, Model: {self.model}, Year: {self.year}\"\n",
        "\n",
        "  @classmethod\n",
        "  def update_wheels(cls, new_wheels):\n",
        "    cls.wheels = new_wheels\n",
        "\n",
        "  @staticmethod\n",
        "  def is_motor_vehicle():\n",
        "    return True\n",
        "\n",
        "class ElectricCar(Car):\n",
        "  def __init__(self, brand, model, year, battery_capacity):\n",
        "    super().__init__(brand, model, year)\n",
        "    self.battery_capacity = battery_capacity\n",
        "\n",
        "  def car_info(self):\n",
        "    return \"Brand : {}, Model : {}, Year : {}, Battery Capacity : {} kWh\".format(self.brand, self.model, self.year, self.battery_capacity)\n",
        "\n",
        "e = ElectricCar(\"Tesla\", \"Model S\", 2022, 75)\n",
        "print(e.car_info())"
      ],
      "metadata": {
        "colab": {
          "base_uri": "https://localhost:8080/"
        },
        "id": "6rfguP1WhVOp",
        "outputId": "44d4f932-2877-44fc-dda6-1da62b8b8f54"
      },
      "execution_count": null,
      "outputs": [
        {
          "output_type": "stream",
          "name": "stdout",
          "text": [
            "Brand : Tesla, Model : Model S, Year : 2022, Battery Capacity : 75 kWh\n"
          ]
        }
      ]
    },
    {
      "cell_type": "markdown",
      "source": [
        "Modify the Car class to include an alternative constructor called from_string(cls, car_string), which takes a string in the format:\n",
        "\"brand,model,year\" (e.g., \"Toyota,Camry,2020\")\n",
        "and returns a Car instance."
      ],
      "metadata": {
        "id": "yg8yvHocj3Gw"
      }
    },
    {
      "cell_type": "code",
      "source": [
        "class Car:\n",
        "  def __init__(self, brand, model, year):\n",
        "    self.brand = brand\n",
        "    self.model = model\n",
        "    self.year = int(year)\n",
        "\n",
        "  @classmethod\n",
        "  def from_string(cls, car_string):\n",
        "    brand, model, year = car_string.split(\",\")\n",
        "    return cls(brand, model, year)\n",
        "\n",
        "car_string = \"Toyota,Camry,2020\"\n",
        "c = Car.from_string(car_string)\n",
        "print(f\"Brand : {c.brand}, Model : {c.model}, Year : {c.year}\")"
      ],
      "metadata": {
        "colab": {
          "base_uri": "https://localhost:8080/"
        },
        "id": "3wxPc8GHjnog",
        "outputId": "cc351b63-57d3-45af-d78f-eeb6e28f2d1e"
      },
      "execution_count": null,
      "outputs": [
        {
          "output_type": "stream",
          "name": "stdout",
          "text": [
            "Brand : Toyota, Model : Camry, Year : 2020\n"
          ]
        }
      ]
    },
    {
      "cell_type": "markdown",
      "source": [
        "Modify the Car class to include another alternative constructor from_dict(cls, car_dict), which takes a dictionary with keys \"brand\", \"model\", and \"year\" and returns a Car instance."
      ],
      "metadata": {
        "id": "Si_-yw0Um0_T"
      }
    },
    {
      "cell_type": "code",
      "source": [
        "class Car:\n",
        "  def __init__(self, brand, model, year):\n",
        "    self.brand = brand\n",
        "    self.model = model\n",
        "    self.year = int(year)\n",
        "\n",
        "  @classmethod\n",
        "  def from_string(cls, car_dict):\n",
        "    brand, model, year = car_dict[\"brand\"], car_dict[\"model\"], car_dict[\"year\"]\n",
        "    return cls(brand, model, year)\n",
        "\n",
        "car_dict = {\"brand\": \"Honda\", \"model\": \"Civic\", \"year\": 2019}\n",
        "c = Car.from_string(car_dict)\n",
        "print(f\"Brand : {c.brand}, Model : {c.model}, Year : {c.year}\")\n"
      ],
      "metadata": {
        "colab": {
          "base_uri": "https://localhost:8080/"
        },
        "id": "InC4az29mCnp",
        "outputId": "567f7d7e-43b1-4d21-e6b7-5c76611ce745"
      },
      "execution_count": null,
      "outputs": [
        {
          "output_type": "stream",
          "name": "stdout",
          "text": [
            "Brand : Honda, Model : Civic, Year : 2019\n"
          ]
        }
      ]
    },
    {
      "cell_type": "markdown",
      "source": [
        "Modify the following Car class to include a class variable total_cars that keeps track of the number of car instances created."
      ],
      "metadata": {
        "id": "veumpcxCLfgX"
      }
    },
    {
      "cell_type": "code",
      "source": [
        "class Car:\n",
        "  total_cars = 0\n",
        "  def __init__(self, brand, model, year):\n",
        "    self.brand = brand\n",
        "    self.model = model\n",
        "    self.year = year\n",
        "    Car.total_cars += 1\n",
        "\n",
        "c1 = Car(\"Toyota\", \"Camry\", 2020)\n",
        "c2 = Car(\"Honda\", \"Civic\", 2019)\n",
        "print(Car.total_cars)\n",
        "\n"
      ],
      "metadata": {
        "colab": {
          "base_uri": "https://localhost:8080/"
        },
        "id": "7-YW1Tw8LgAQ",
        "outputId": "0d87a61e-e189-491e-db28-517533a0c8d6"
      },
      "execution_count": null,
      "outputs": [
        {
          "output_type": "stream",
          "name": "stdout",
          "text": [
            "2\n"
          ]
        }
      ]
    },
    {
      "cell_type": "markdown",
      "source": [
        "Modify the Car class to include a static method general_info() that returns a string:\n",
        "\n",
        "\"Cars are a means of transportation.\""
      ],
      "metadata": {
        "id": "0a2lmj2hMHyp"
      }
    },
    {
      "cell_type": "code",
      "source": [
        "class Car:\n",
        "  total_cars = 0\n",
        "  def __init__(self, brand, model, year):\n",
        "    self.brand = brand\n",
        "    self.model = model\n",
        "    self.year = year\n",
        "    Car.total_cars += 1\n",
        "\n",
        "  @staticmethod\n",
        "  def general_info():\n",
        "    return \"Cars are a means of transportation.\"\n",
        "\n",
        "c1 = Car(\"Toyota\", \"Camry\", 2020)\n",
        "c2 = Car(\"Honda\", \"Civic\", 2019)\n",
        "print(Car.total_cars)\n",
        "print(Car.general_info())"
      ],
      "metadata": {
        "colab": {
          "base_uri": "https://localhost:8080/"
        },
        "id": "UYdb7eVnL79v",
        "outputId": "49eaee0a-864d-49f2-df34-71447a63955b"
      },
      "execution_count": null,
      "outputs": [
        {
          "output_type": "stream",
          "name": "stdout",
          "text": [
            "2\n",
            "Cars are a means of transportation.\n"
          ]
        }
      ]
    },
    {
      "cell_type": "markdown",
      "source": [
        "Modify the Car class to include a class method called reset_car_count() that resets total_cars to 0.\n",
        "\n",
        "📌 Instructions:\n",
        "\n",
        "- Define a class method reset_car_count().\n",
        "\n",
        "- It should set Car.total_cars = 0.\n",
        "\n",
        "- Call reset_car_count() and verify that Car.total_cars is now 0."
      ],
      "metadata": {
        "id": "48zu3C8SMjBR"
      }
    },
    {
      "cell_type": "code",
      "source": [
        "class Car:\n",
        "  total_cars = 0\n",
        "  def __init__(self, brand, model, year):\n",
        "    self.brand = brand\n",
        "    self.model = model\n",
        "    self.year = year\n",
        "    Car.total_cars += 1\n",
        "\n",
        "  @staticmethod\n",
        "  def general_info():\n",
        "    return \"Cars are a means of transportation.\"\n",
        "\n",
        "  @classmethod\n",
        "  def reset_car_count(cls):\n",
        "    cls.total_cars = 0\n",
        "\n",
        "c1 = Car(\"Toyota\", \"Camry\", 2020)\n",
        "c2 = Car(\"Honda\", \"Civic\", 2019)\n",
        "print(Car.total_cars)\n",
        "print(Car.general_info())\n",
        "Car.reset_car_count()\n",
        "print(Car.total_cars)"
      ],
      "metadata": {
        "colab": {
          "base_uri": "https://localhost:8080/"
        },
        "id": "DMc3uxJZMVnK",
        "outputId": "330d073c-e96b-4b61-aa0e-f0cd15db3e8e"
      },
      "execution_count": null,
      "outputs": [
        {
          "output_type": "stream",
          "name": "stdout",
          "text": [
            "2\n",
            "Cars are a means of transportation.\n",
            "0\n"
          ]
        }
      ]
    },
    {
      "cell_type": "markdown",
      "source": [
        "Modify the Car class to add a static variable default_color with the value \"White\". Then, add a class method update_default_color() that allows updating default_color.\n",
        "\n",
        "📌 Instructions:\n",
        "\n",
        "- Define a class variable default_color = \"White\".\n",
        "\n",
        "- Define a class method update_default_color(cls, new_color).\n",
        "\n",
        "- Call update_default_color(\"Black\") and verify the update using print(Car.default_color).\n",
        "\n",
        "Write your updated class! 🚀"
      ],
      "metadata": {
        "id": "LQfKkevgNwzg"
      }
    },
    {
      "cell_type": "code",
      "source": [
        "class Car:\n",
        "  default_color = \"White\"\n",
        "  def __init__(self, brand, model, year):\n",
        "    self.brand = brand\n",
        "    self.model = model\n",
        "    self.year = year\n",
        "\n",
        "  @classmethod\n",
        "  def update_default_color(cls, new_color):\n",
        "    cls.default_color = new_color\n",
        "\n",
        "c = Car(\"Toyota\", \"Camry\", 2020)\n",
        "print(Car.default_color)\n",
        "Car.update_default_color(\"Black\")\n",
        "print(Car.default_color)"
      ],
      "metadata": {
        "colab": {
          "base_uri": "https://localhost:8080/"
        },
        "id": "gIPWjUgTNI-D",
        "outputId": "db0c9da6-8fce-4918-8fbb-a2071591d8b2"
      },
      "execution_count": null,
      "outputs": [
        {
          "output_type": "stream",
          "name": "stdout",
          "text": [
            "White\n",
            "Black\n"
          ]
        }
      ]
    },
    {
      "cell_type": "markdown",
      "source": [
        "Create a Python class Circle with:\n",
        "\n",
        "- A private attribute _radius\n",
        "\n",
        "- A getter method radius using the property decorator\n",
        "\n",
        "- A setter method radius that ensures the radius is always positive\n",
        "\n",
        "- A method area() that calculates and returns the area of the circle"
      ],
      "metadata": {
        "id": "F94GqEhEm-fd"
      }
    },
    {
      "cell_type": "code",
      "source": [
        "class Circle:\n",
        "  def __init__(self, radius):\n",
        "    self._radius = radius\n",
        "\n",
        "  @property\n",
        "  def radius(self):\n",
        "    return self._radius\n",
        "\n",
        "  @radius.setter\n",
        "  def radius(self, radius):\n",
        "    if radius < 0:\n",
        "      raise ValueError(\"Radius cannot be negative\")\n",
        "    self._radius = radius\n",
        "\n",
        "  def area(self):\n",
        "    return 3.14 * self._radius * self._radius\n",
        "\n",
        "c = Circle(5)\n",
        "print(c.radius)\n",
        "\n",
        "c.radius = -5"
      ],
      "metadata": {
        "id": "g0hSgN-dPPaV",
        "colab": {
          "base_uri": "https://localhost:8080/",
          "height": 315
        },
        "outputId": "a02de57a-9984-49a2-c06a-87e97735d36b"
      },
      "execution_count": null,
      "outputs": [
        {
          "output_type": "stream",
          "name": "stdout",
          "text": [
            "5\n"
          ]
        },
        {
          "output_type": "error",
          "ename": "ValueError",
          "evalue": "Radius cannot be negative",
          "traceback": [
            "\u001b[0;31m---------------------------------------------------------------------------\u001b[0m",
            "\u001b[0;31mValueError\u001b[0m                                Traceback (most recent call last)",
            "\u001b[0;32m<ipython-input-3-9f5f71839e02>\u001b[0m in \u001b[0;36m<cell line: 0>\u001b[0;34m()\u001b[0m\n\u001b[1;32m     19\u001b[0m \u001b[0mprint\u001b[0m\u001b[0;34m(\u001b[0m\u001b[0mc\u001b[0m\u001b[0;34m.\u001b[0m\u001b[0mradius\u001b[0m\u001b[0;34m)\u001b[0m\u001b[0;34m\u001b[0m\u001b[0;34m\u001b[0m\u001b[0m\n\u001b[1;32m     20\u001b[0m \u001b[0;34m\u001b[0m\u001b[0m\n\u001b[0;32m---> 21\u001b[0;31m \u001b[0mc\u001b[0m\u001b[0;34m.\u001b[0m\u001b[0mradius\u001b[0m \u001b[0;34m=\u001b[0m \u001b[0;34m-\u001b[0m\u001b[0;36m5\u001b[0m\u001b[0;34m\u001b[0m\u001b[0;34m\u001b[0m\u001b[0m\n\u001b[0m",
            "\u001b[0;32m<ipython-input-3-9f5f71839e02>\u001b[0m in \u001b[0;36mradius\u001b[0;34m(self, radius)\u001b[0m\n\u001b[1;32m     10\u001b[0m   \u001b[0;32mdef\u001b[0m \u001b[0mradius\u001b[0m\u001b[0;34m(\u001b[0m\u001b[0mself\u001b[0m\u001b[0;34m,\u001b[0m \u001b[0mradius\u001b[0m\u001b[0;34m)\u001b[0m\u001b[0;34m:\u001b[0m\u001b[0;34m\u001b[0m\u001b[0;34m\u001b[0m\u001b[0m\n\u001b[1;32m     11\u001b[0m     \u001b[0;32mif\u001b[0m \u001b[0mradius\u001b[0m \u001b[0;34m<\u001b[0m \u001b[0;36m0\u001b[0m\u001b[0;34m:\u001b[0m\u001b[0;34m\u001b[0m\u001b[0;34m\u001b[0m\u001b[0m\n\u001b[0;32m---> 12\u001b[0;31m       \u001b[0;32mraise\u001b[0m \u001b[0mValueError\u001b[0m\u001b[0;34m(\u001b[0m\u001b[0;34m\"Radius cannot be negative\"\u001b[0m\u001b[0;34m)\u001b[0m\u001b[0;34m\u001b[0m\u001b[0;34m\u001b[0m\u001b[0m\n\u001b[0m\u001b[1;32m     13\u001b[0m     \u001b[0mself\u001b[0m\u001b[0;34m.\u001b[0m\u001b[0m_radius\u001b[0m \u001b[0;34m=\u001b[0m \u001b[0mradius\u001b[0m\u001b[0;34m\u001b[0m\u001b[0;34m\u001b[0m\u001b[0m\n\u001b[1;32m     14\u001b[0m \u001b[0;34m\u001b[0m\u001b[0m\n",
            "\u001b[0;31mValueError\u001b[0m: Radius cannot be negative"
          ]
        }
      ]
    },
    {
      "cell_type": "markdown",
      "source": [
        "Modify the Circle class to include a new property diameter, which should always be twice the radius. Ensure that updating diameter also updates radius accordingly."
      ],
      "metadata": {
        "id": "h984TpMt2u0d"
      }
    },
    {
      "cell_type": "code",
      "source": [
        "class Circle:\n",
        "  def __init__(self, radius, diameter):\n",
        "    self._radius = radius\n",
        "    self._diameter = diameter\n",
        "\n",
        "  @property\n",
        "  def radius(self):\n",
        "    return self._radius\n",
        "\n",
        "  @property\n",
        "  def diameter(self):\n",
        "    return self._diameter\n",
        "\n",
        "  @diameter.setter\n",
        "  def diameter(self, diameter):\n",
        "    self._diameter = diameter\n",
        "    self._radius = diameter / 2\n",
        "\n",
        "  @radius.setter\n",
        "  def radius(self, radius):\n",
        "    self._radius = radius\n",
        "    self._diameter = 2 * radius\n",
        "\n",
        "c = Circle(5, 10)\n",
        "print(c.radius)\n",
        "print(c.diameter)\n",
        "\n",
        "c.diameter = 16\n",
        "print(c.radius)\n",
        "print(c.diameter)\n"
      ],
      "metadata": {
        "colab": {
          "base_uri": "https://localhost:8080/"
        },
        "id": "ZP_pS_SFq5Ni",
        "outputId": "21d36be6-c80a-4b10-c84a-eccdad7f45b0"
      },
      "execution_count": null,
      "outputs": [
        {
          "output_type": "stream",
          "name": "stdout",
          "text": [
            "5\n",
            "10\n",
            "8.0\n",
            "16\n"
          ]
        }
      ]
    },
    {
      "cell_type": "code",
      "source": [
        "class Circle:\n",
        "    def __init__(self, radius):\n",
        "        self._radius = radius  # Only store _radius\n",
        "\n",
        "    @property\n",
        "    def radius(self):\n",
        "        return self._radius\n",
        "\n",
        "    @radius.setter\n",
        "    def radius(self, radius):\n",
        "        if radius < 0:\n",
        "            raise ValueError(\"Radius cannot be negative\")\n",
        "        self._radius = radius  # Update _radius\n",
        "\n",
        "    @property\n",
        "    def diameter(self):\n",
        "        return 2 * self._radius  # Always derived from _radius\n",
        "\n",
        "    @diameter.setter\n",
        "    def diameter(self, diameter):\n",
        "        if diameter < 0:\n",
        "            raise ValueError(\"Diameter cannot be negative\")\n",
        "        self._radius = diameter / 2  # Update _radius when diameter changes\n",
        "\n",
        "# Example Usage\n",
        "c = Circle(5)\n",
        "print(c.radius)    # Output: 5\n",
        "print(c.diameter)  # Output: 10\n",
        "\n",
        "c.diameter = 16\n",
        "print(c.radius)    # Output: 8\n",
        "print(c.diameter)  # Output: 16\n"
      ],
      "metadata": {
        "colab": {
          "base_uri": "https://localhost:8080/"
        },
        "id": "PuyTmKLp6ghw",
        "outputId": "f7f59144-d190-487b-a647-0a8196ba0bd0"
      },
      "execution_count": null,
      "outputs": [
        {
          "output_type": "stream",
          "name": "stdout",
          "text": [
            "5\n",
            "10\n",
            "8.0\n",
            "16.0\n"
          ]
        }
      ]
    },
    {
      "cell_type": "markdown",
      "source": [
        "Create a Rectangle class where:\n",
        "\n",
        "- width and height are private attributes.\n",
        "\n",
        "- Implement area and perimeter as read-only properties.\n",
        "\n",
        "- Ensure width and height can be modified, but they must always be positive."
      ],
      "metadata": {
        "id": "QuYqkO0o7RCL"
      }
    },
    {
      "cell_type": "code",
      "source": [
        "class Circle:\n",
        "  def __init__(self, width, height):\n",
        "    self._width = width\n",
        "    self._height = height\n",
        "\n",
        "  @property\n",
        "  def area(self):\n",
        "    return self._width * self._height\n",
        "\n",
        "  @property\n",
        "  def perimeter(self):\n",
        "    return 2 * (self._height + self._width)\n",
        "\n",
        "c = Circle(2, 5)\n",
        "print(c.area)\n",
        "print(c.perimeter)\n",
        "\n",
        "c._width = 10\n",
        "print(c.area)\n",
        "print(c.perimeter)\n",
        "\n"
      ],
      "metadata": {
        "colab": {
          "base_uri": "https://localhost:8080/"
        },
        "id": "g5j3jKxI7JY5",
        "outputId": "98f6540b-f698-4a2b-d379-e7d36b790a5c"
      },
      "execution_count": null,
      "outputs": [
        {
          "output_type": "stream",
          "name": "stdout",
          "text": [
            "10\n",
            "14\n",
            "50\n",
            "30\n"
          ]
        }
      ]
    },
    {
      "cell_type": "markdown",
      "source": [
        "Modify the Car class to include a class attribute named vehicle_type with the value \"Automobile\".\n",
        "Also, add a class method named get_vehicle_type() that returns this class attribute."
      ],
      "metadata": {
        "id": "bWunZ_FwMthO"
      }
    },
    {
      "cell_type": "code",
      "source": [
        "class Car:\n",
        "  vehicle_type = \"Automobile\"\n",
        "  def __init__(self, make, model, year):\n",
        "    self.make = make\n",
        "    self.model = model\n",
        "    self.year = year\n",
        "\n",
        "  @classmethod\n",
        "  def get_vehicle_type(cls):\n",
        "    return cls.vehicle_type\n",
        "\n",
        "c = Car(\"Hundai\", \"i20\", 2015)\n",
        "print(Car.get_vehicle_type())"
      ],
      "metadata": {
        "id": "sh4uIvXb-Kqb",
        "colab": {
          "base_uri": "https://localhost:8080/"
        },
        "outputId": "105bf570-9327-49cf-9d8a-ddbbfb9cd95b"
      },
      "execution_count": null,
      "outputs": [
        {
          "output_type": "stream",
          "name": "stdout",
          "text": [
            "Automobile\n"
          ]
        }
      ]
    },
    {
      "cell_type": "markdown",
      "source": [
        "Modify the Car class to include a static method named is_motor_vehicle(), which returns True (since a car is always a motor vehicle)."
      ],
      "metadata": {
        "id": "3srCI_eENrGw"
      }
    },
    {
      "cell_type": "code",
      "source": [
        "class Car:\n",
        "  vehicle_type = \"Automobile\"\n",
        "  def __init__(self, make, model, year):\n",
        "    self.make = make\n",
        "    self.model = model\n",
        "    self.year = year\n",
        "\n",
        "  @classmethod\n",
        "  def get_vehicle_type(cls):\n",
        "    return cls.vehicle_type\n",
        "\n",
        "  @staticmethod\n",
        "  def is_motor_vehicle():\n",
        "    return True\n",
        "\n",
        "c = Car(\"Hundai\", \"i20\", 2015)\n",
        "print(Car.get_vehicle_type())\n",
        "print(Car.is_motor_vehicle())"
      ],
      "metadata": {
        "colab": {
          "base_uri": "https://localhost:8080/"
        },
        "id": "MMVfayx8M0OX",
        "outputId": "09686c6e-2e56-45b3-e347-0e970f03083d"
      },
      "execution_count": null,
      "outputs": [
        {
          "output_type": "stream",
          "name": "stdout",
          "text": [
            "Automobile\n",
            "True\n"
          ]
        }
      ]
    },
    {
      "cell_type": "markdown",
      "source": [
        "Modify the Car class to include a special method __str__() that returns a string representation of the car in the format:\n",
        "\n",
        "\"Car: `<year> <make> <model>`\"\n",
        "\n",
        "For example, if the car is a 2015 Hyundai i20, calling str(c) or print(c) should return:\n",
        "\"Car: 2015 Hyundai i20\""
      ],
      "metadata": {
        "id": "Gvp1aAU0OEjw"
      }
    },
    {
      "cell_type": "code",
      "source": [
        "class Car:\n",
        "  def __init__(self, year, make, model):\n",
        "    self.year = year\n",
        "    self.make = make\n",
        "    self.model = model\n",
        "\n",
        "  def __str__(self):\n",
        "    return f\"Car: {self.year} {self.make} {self.model}\"\n",
        "\n",
        "c = Car(2015, \"Hyundai\", \"i20\")\n",
        "print(c)"
      ],
      "metadata": {
        "id": "SwDG3_s2N5be",
        "colab": {
          "base_uri": "https://localhost:8080/"
        },
        "outputId": "fca71e40-74f1-42f6-d8d4-ec3a8247188a"
      },
      "execution_count": null,
      "outputs": [
        {
          "output_type": "stream",
          "name": "stdout",
          "text": [
            "Car: 2015 Hyundai i20\n"
          ]
        }
      ]
    },
    {
      "cell_type": "markdown",
      "source": [
        "Modify the Car class to include a class attribute total_cars that keeps track of the total number of Car objects created.\n",
        "\n",
        "###Requirements:\n",
        "\n",
        "* Initialize total_cars = 0 at the class level.\n",
        "\n",
        "- Increment total_cars inside the constructor (__init__) each time a new car object is created.\n",
        "\n",
        "- Add a class method get_total_cars() that returns the value of total_cars."
      ],
      "metadata": {
        "id": "aE_vuqS_fjwg"
      }
    },
    {
      "cell_type": "code",
      "source": [
        "class Car:\n",
        "  total_cars = 0\n",
        "  def __init__(self, year, make, model):\n",
        "    self.year = year\n",
        "    self.make = make\n",
        "    self.model = model\n",
        "    Car.total_cars += 1\n",
        "\n",
        "  @classmethod\n",
        "  def get_total_cars(cls):\n",
        "    return cls.total_cars\n",
        "\n",
        "print(Car.get_total_cars())\n",
        "c1 = Car(2015, \"Hyundai\", \"i20\")\n",
        "c2 = Car(2014, \"Hyundai\", \"i10\")\n",
        "print(Car.get_total_cars())\n"
      ],
      "metadata": {
        "colab": {
          "base_uri": "https://localhost:8080/"
        },
        "id": "ahSKUkQefXT5",
        "outputId": "db2cff7a-aa9c-40b2-e059-e920ce2d15c9"
      },
      "execution_count": null,
      "outputs": [
        {
          "output_type": "stream",
          "name": "stdout",
          "text": [
            "0\n",
            "2\n"
          ]
        }
      ]
    },
    {
      "cell_type": "markdown",
      "source": [
        "Modify the Car class to include an alternative constructor named from_string(), which takes a single string in the format:\n",
        "\"year,make,model\"\n",
        "and returns a new Car object."
      ],
      "metadata": {
        "id": "_xan-2Gagrjj"
      }
    },
    {
      "cell_type": "code",
      "source": [
        "class Car:\n",
        "  def __init__(self, year, make, model):\n",
        "    self.year = year\n",
        "    self.make = make\n",
        "    self.model = model\n",
        "\n",
        "  @classmethod\n",
        "  def from_string(cls, string):\n",
        "    year, make, model = string.split(\",\")\n",
        "    return cls(year, make, model)\n",
        "\n",
        "c = Car.from_string(\"2015,Hyundai,i20\")\n",
        "print(f\"Year: {c.year} Make:{c.make} Model:{c.model}\")"
      ],
      "metadata": {
        "colab": {
          "base_uri": "https://localhost:8080/"
        },
        "id": "-ytZeIcHgbL6",
        "outputId": "16dcc7d8-6d5f-4075-897d-cbd0e39aa226"
      },
      "execution_count": null,
      "outputs": [
        {
          "output_type": "stream",
          "name": "stdout",
          "text": [
            "Year: 2015 Make:Hyundai Model:i20\n"
          ]
        }
      ]
    },
    {
      "cell_type": "markdown",
      "source": [
        "Modify the Car class to add a comparison method __eq__() that checks if two Car objects are equal.\n",
        "\n",
        "Two cars should be considered equal if they have the same make, model, and year."
      ],
      "metadata": {
        "id": "K5K-nLRli7tE"
      }
    },
    {
      "cell_type": "code",
      "source": [
        "class Car:\n",
        "  def __init__(self, year, make, model):\n",
        "    self.year = year\n",
        "    self.make = make\n",
        "    self.model = model\n",
        "\n",
        "  def __eq__(self, other):\n",
        "    if self.year == other.year and self.make == other.make and self.model == other.model:\n",
        "      return True\n",
        "    return False\n",
        "\n",
        "c1 = Car(2014, \"Hyundai\", \"i20\")\n",
        "c2 = Car(2014, \"Hyundai\", \"i20\")\n",
        "print(c1 == c2)"
      ],
      "metadata": {
        "colab": {
          "base_uri": "https://localhost:8080/"
        },
        "id": "ABsW3sJpit7X",
        "outputId": "ecdccf36-ac10-421e-908d-318598f021f5"
      },
      "execution_count": null,
      "outputs": [
        {
          "output_type": "stream",
          "name": "stdout",
          "text": [
            "True\n"
          ]
        }
      ]
    },
    {
      "cell_type": "markdown",
      "source": [
        "Modify the Car class to include a greater than (>) comparison method __gt__() that compares two cars based on their year.\n",
        "\n",
        "- A car is considered greater than another if it has a more recent year."
      ],
      "metadata": {
        "id": "wyMVwRwqkL1-"
      }
    },
    {
      "cell_type": "code",
      "source": [
        "class Car:\n",
        "  def __init__(self, year, make, model):\n",
        "    self.year = year\n",
        "    self.make = make\n",
        "    self.model = model\n",
        "\n",
        "  def __gt__(self, other):\n",
        "    if self.year > other.year:\n",
        "      return True\n",
        "    return False\n",
        "\n",
        "c1 = Car(2014, \"Hyundai\", \"i20\")\n",
        "c2 = Car(2015, \"Hyundai\", \"i20\")\n",
        "print(c1 > c2)"
      ],
      "metadata": {
        "colab": {
          "base_uri": "https://localhost:8080/"
        },
        "id": "-SJZ4ryPjpLV",
        "outputId": "1d6ec3e0-a9b6-47d6-ae4f-ec9a6d298e89"
      },
      "execution_count": null,
      "outputs": [
        {
          "output_type": "stream",
          "name": "stdout",
          "text": [
            "False\n"
          ]
        }
      ]
    },
    {
      "cell_type": "markdown",
      "source": [
        "Modify the Car class to override the addition operator (+) so that:\n",
        "\n",
        "When two Car objects are added, the result should be a new Car with:\n",
        "\n",
        "- The newest year of the two.\n",
        "\n",
        "- A concatenated make (make1-make2).\n",
        "\n",
        "- A concatenated model (model1-model2)."
      ],
      "metadata": {
        "id": "i2cJG0f_lFCR"
      }
    },
    {
      "cell_type": "code",
      "source": [
        "class Car:\n",
        "  def __init__(self, year, make, model):\n",
        "    self.year = year\n",
        "    self.make = make\n",
        "    self.model = model\n",
        "\n",
        "  def __add__(self, other):\n",
        "    new_year = max(self.year, other.year)\n",
        "    new_make = self.make +\"-\"+ other.make\n",
        "    new_model = self.model + \"-\" + other.model\n",
        "    return Car(new_year, new_make, new_model)\n",
        "\n",
        "  def __str__(self):\n",
        "    return f\"Car({self.year}, {self.make}, {self.model})\"\n",
        "\n",
        "c1 = Car(2014, \"Hyundai\", \"i20\")\n",
        "c2 = Car(2015, \"Hyundai\", \"i20\")\n",
        "c3 = c1 + c2\n",
        "print(c3)"
      ],
      "metadata": {
        "colab": {
          "base_uri": "https://localhost:8080/"
        },
        "id": "Z4TS4bLOkxpH",
        "outputId": "5008e01b-3c7f-4245-8592-ede5ecdad911"
      },
      "execution_count": null,
      "outputs": [
        {
          "output_type": "stream",
          "name": "stdout",
          "text": [
            "Car(2015, Hyundai-Hyundai, i20-i20)\n"
          ]
        }
      ]
    },
    {
      "cell_type": "markdown",
      "source": [
        "Modify the Car class to add a read-only property called full_name, which returns a string in the format:\n",
        "\"{year} {make} {model}\""
      ],
      "metadata": {
        "id": "Tk3UPfmgmdvp"
      }
    },
    {
      "cell_type": "code",
      "source": [
        "class Car:\n",
        "  def __init__(self, year, make, model):\n",
        "    self.year = year\n",
        "    self.make = make\n",
        "    self.model = model\n",
        "\n",
        "  @property\n",
        "  def full_name(self):\n",
        "    return f\"{self.year} {self.make} {self.model}\"\n",
        "\n",
        "c = Car(2015, \"Hyundai\", \"i20\")\n",
        "print(c.full_name)"
      ],
      "metadata": {
        "id": "rrfjhsr1mI7T",
        "colab": {
          "base_uri": "https://localhost:8080/"
        },
        "outputId": "bdf4ba70-4a37-484f-e2a5-073b05daf3e9"
      },
      "execution_count": null,
      "outputs": [
        {
          "output_type": "stream",
          "name": "stdout",
          "text": [
            "2015 Hyundai i20\n"
          ]
        }
      ]
    },
    {
      "cell_type": "markdown",
      "source": [
        "Modify the Car class to add a getter, setter, and deleter for a new property called age.\n",
        "\n",
        "- The getter should return the car’s age based on the current year (assume 2025).\n",
        "\n",
        "- The setter should allow updating the car’s year based on the new age provided.\n",
        "\n",
        "- The deleter should reset the year to None."
      ],
      "metadata": {
        "id": "aROJ1EyIWhPg"
      }
    },
    {
      "cell_type": "code",
      "source": [
        "class Car:\n",
        "  def __init__(self, year):\n",
        "    self.year = year\n",
        "\n",
        "  @property\n",
        "  def age(self):\n",
        "    return 2025 - int(self.year)\n",
        "\n",
        "  @age.setter\n",
        "  def age(self, new_age):\n",
        "    self.year = 2025 - new_age\n",
        "\n",
        "  @age.deleter\n",
        "  def age(self):\n",
        "    self.year = None\n",
        "\n",
        "c = Car(2015)\n",
        "print(c.age)\n",
        "c.age = 25\n",
        "print(c.year)\n",
        "\n"
      ],
      "metadata": {
        "colab": {
          "base_uri": "https://localhost:8080/"
        },
        "id": "oPR-nhC7V1ji",
        "outputId": "41ce47ef-ac93-4400-b2ca-a1e8fbe196b2"
      },
      "execution_count": null,
      "outputs": [
        {
          "output_type": "stream",
          "name": "stdout",
          "text": [
            "10\n",
            "2000\n"
          ]
        }
      ]
    },
    {
      "cell_type": "markdown",
      "source": [
        "Modify the Car class to add a computed property called is_vintage.\n",
        "\n",
        "- A car is considered vintage if it is 20 years old or older.\n",
        "\n",
        "- Implement it using the @property decorator.\n",
        "\n",
        "- The property should return True if the car is vintage and False otherwise."
      ],
      "metadata": {
        "id": "Zx4bzeLZZnXz"
      }
    },
    {
      "cell_type": "code",
      "source": [
        "class Car:\n",
        "  def __init__(self, year):\n",
        "    self.year = year\n",
        "\n",
        "  @property\n",
        "  def age(self):\n",
        "    return 2025 - self.year\n",
        "\n",
        "  @age.setter\n",
        "  def age(self, new_age):\n",
        "    self.year = 2025 - new_age\n",
        "\n",
        "  def is_vintage(self):\n",
        "    if self.age >= 20:\n",
        "      return True\n",
        "    return False\n",
        "\n",
        "c = Car(2020)\n",
        "print(f\"Year : {c.year} Age : {c.age}\")\n",
        "print(f\"Vintage: {c.is_vintage()}\")\n",
        "c.age = 20\n",
        "print(f\"Year : {c.year} Age : {c.age}\")\n",
        "print(f\"Vintage: {c.is_vintage()}\")"
      ],
      "metadata": {
        "colab": {
          "base_uri": "https://localhost:8080/"
        },
        "id": "EZ6rWxuQX2MU",
        "outputId": "ddceca61-9c07-4b7c-ef42-33ab8bcc05bb"
      },
      "execution_count": null,
      "outputs": [
        {
          "output_type": "stream",
          "name": "stdout",
          "text": [
            "Year : 2020 Age : 5\n",
            "Vintage: False\n",
            "Year : 2005 Age : 20\n",
            "Vintage: True\n"
          ]
        }
      ]
    },
    {
      "cell_type": "code",
      "source": [],
      "metadata": {
        "id": "XYFASqYodDP3"
      },
      "execution_count": null,
      "outputs": []
    }
  ]
}